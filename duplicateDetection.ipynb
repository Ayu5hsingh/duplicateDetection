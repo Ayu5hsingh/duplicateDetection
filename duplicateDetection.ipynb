{
 "cells": [
  {
   "cell_type": "code",
   "execution_count": 1,
   "id": "92bde528",
   "metadata": {
    "_cell_guid": "b1076dfc-b9ad-4769-8c92-a6c4dae69d19",
    "_kg_hide-input": true,
    "_kg_hide-output": true,
    "_uuid": "8f2839f25d086af736a60e9eeb907d3b93b6e0e5",
    "execution": {
     "iopub.execute_input": "2023-03-28T11:28:32.534362Z",
     "iopub.status.busy": "2023-03-28T11:28:32.533734Z",
     "iopub.status.idle": "2023-03-28T11:28:32.683068Z",
     "shell.execute_reply": "2023-03-28T11:28:32.681940Z"
    },
    "papermill": {
     "duration": 0.158552,
     "end_time": "2023-03-28T11:28:32.686043",
     "exception": false,
     "start_time": "2023-03-28T11:28:32.527491",
     "status": "completed"
    },
    "tags": []
   },
   "outputs": [],
   "source": [
    "# This Python 3 environment comes with many helpful analytics libraries installed\n",
    "# It is defined by the kaggle/python Docker image: https://github.com/kaggle/docker-python\n",
    "# For example, here's several helpful packages to load\n",
    "\n",
    "import numpy as np # linear algebra\n",
    "import pandas as pd # data processing, CSV file I/O (e.g. pd.read_csv)\n",
    "\n",
    "# Input data files are available in the read-only \"../input/\" directory\n",
    "# For example, running this (by clicking run or pressing Shift+Enter) will list all files under the input directory\n",
    "\n",
    "import os\n",
    "for dirname, _, filenames in os.walk('/kaggle/input'):\n",
    "    for filename in filenames:\n",
    "        os.path.join(dirname, filename)\n",
    "\n",
    "# You can write up to 20GB to the current directory (/kaggle/working/) that gets preserved as output when you create a version using \"Save & Run All\" \n",
    "# You can also write temporary files to /kaggle/temp/, but they won't be saved outside of the current session"
   ]
  },
  {
   "cell_type": "markdown",
   "id": "c7c0ba84",
   "metadata": {
    "papermill": {
     "duration": 0.002466,
     "end_time": "2023-03-28T11:28:32.691729",
     "exception": false,
     "start_time": "2023-03-28T11:28:32.689263",
     "status": "completed"
    },
    "tags": []
   },
   "source": [
    "### Importing necesary libraries"
   ]
  },
  {
   "cell_type": "code",
   "execution_count": 2,
   "id": "42b9e853",
   "metadata": {
    "execution": {
     "iopub.execute_input": "2023-03-28T11:28:32.698993Z",
     "iopub.status.busy": "2023-03-28T11:28:32.698530Z",
     "iopub.status.idle": "2023-03-28T11:28:32.906085Z",
     "shell.execute_reply": "2023-03-28T11:28:32.904586Z"
    },
    "papermill": {
     "duration": 0.214825,
     "end_time": "2023-03-28T11:28:32.909164",
     "exception": false,
     "start_time": "2023-03-28T11:28:32.694339",
     "status": "completed"
    },
    "tags": []
   },
   "outputs": [],
   "source": [
    "import imagehash \n",
    "import pandas \n",
    "import os \n",
    "import cv2\n",
    "from PIL import Image \n",
    "import random "
   ]
  },
  {
   "cell_type": "markdown",
   "id": "b2f66068",
   "metadata": {
    "papermill": {
     "duration": 0.002405,
     "end_time": "2023-03-28T11:28:32.914460",
     "exception": false,
     "start_time": "2023-03-28T11:28:32.912055",
     "status": "completed"
    },
    "tags": []
   },
   "source": [
    "### Creating duplicates\n"
   ]
  },
  {
   "cell_type": "code",
   "execution_count": 3,
   "id": "2fbbac71",
   "metadata": {
    "execution": {
     "iopub.execute_input": "2023-03-28T11:28:32.921609Z",
     "iopub.status.busy": "2023-03-28T11:28:32.921122Z",
     "iopub.status.idle": "2023-03-28T11:28:34.393842Z",
     "shell.execute_reply": "2023-03-28T11:28:34.392330Z"
    },
    "papermill": {
     "duration": 1.480025,
     "end_time": "2023-03-28T11:28:34.396970",
     "exception": false,
     "start_time": "2023-03-28T11:28:32.916945",
     "status": "completed"
    },
    "tags": []
   },
   "outputs": [],
   "source": [
    "#making duplicates in working directory\n",
    "\n",
    "for i,filename in enumerate(os.listdir(\"/kaggle/input/airbnb-duplicate-image-detection/Airbnb Data/Test Data/bathroom\"),1):\n",
    "    img_path=os.path.join(\"/kaggle/input/airbnb-duplicate-image-detection/Airbnb Data/Test Data/bathroom\",filename)\n",
    "    if filename.endswith(\".jpg\"):\n",
    "        no_of_copies=random.randint(0,4)\n",
    "        os.makedirs(\"/kaggle/working/duplicates\",exist_ok=True)\n",
    "        for counter in range(0,no_of_copies):\n",
    "            image=Image.open(img_path)\n",
    "            image_copy=image.copy()\n",
    "            new_name=f\"{counter}_{filename}\"\n",
    "            image_copy.save(f\"/kaggle/working/duplicates/{new_name}\")\n",
    "        "
   ]
  },
  {
   "cell_type": "markdown",
   "id": "a20fa6e7",
   "metadata": {
    "papermill": {
     "duration": 0.002351,
     "end_time": "2023-03-28T11:28:34.402208",
     "exception": false,
     "start_time": "2023-03-28T11:28:34.399857",
     "status": "completed"
    },
    "tags": []
   },
   "source": [
    "### Removing duplicates\n",
    "> * Using imagehash which converts the images into hash string and then futher compares.\n",
    "> * Image hashes tell whether two images look nearly identical. This is different from cryptographic hashing algorithms (like MD5, SHA-1) where tiny changes in the image give completely different hashes. In image fingerprinting, we actually want our similar inputs to have similar output hashes as well.\n",
    ">* The image hash algorithms (average, perceptual, difference, wavelet) analyse the image structure on luminance (without color information). The color hash algorithm analyses the color distribution and black & gray fractions (without position information).\n",
    "\n",
    "**Imagehash github link :** https://github.com/JohannesBuchner/imagehash"
   ]
  },
  {
   "cell_type": "code",
   "execution_count": 4,
   "id": "224f43ac",
   "metadata": {
    "execution": {
     "iopub.execute_input": "2023-03-28T11:28:34.409617Z",
     "iopub.status.busy": "2023-03-28T11:28:34.408656Z",
     "iopub.status.idle": "2023-03-28T11:28:35.121558Z",
     "shell.execute_reply": "2023-03-28T11:28:35.118693Z"
    },
    "papermill": {
     "duration": 0.720952,
     "end_time": "2023-03-28T11:28:35.125620",
     "exception": false,
     "start_time": "2023-03-28T11:28:34.404668",
     "status": "completed"
    },
    "tags": []
   },
   "outputs": [
    {
     "name": "stdout",
     "output_type": "stream",
     "text": [
      "There is duplication present for 0_berlin_969200_2.jpg\n",
      "There is duplication present for 1_berlin_6438456_1.jpg\n",
      "There is duplication present for 1_berlin_834190_2.jpg\n",
      "There is duplication present for 2_berlin_20684132_2.jpg\n",
      "There is duplication present for 1_berlin_20684132_2.jpg\n",
      "There is duplication present for 0_berlin_17339881_1.jpg\n",
      "There is duplication present for 2_berlin_834190_2.jpg\n",
      "There is duplication present for 1_berlin_1583556_1.jpg\n",
      "There is duplication present for 0_berlin_834190_2.jpg\n",
      "There is duplication present for 0_berlin_1583556_1.jpg\n",
      "There is duplication present for 0_berlin_17339881_2.jpg\n",
      "There is duplication present for 2_berlin_969200_2.jpg\n",
      "There is duplication present for 2_berlin_1583556_2.jpg\n",
      "There is duplication present for 2_berlin_17339881_2.jpg\n",
      "There is duplication present for 0_berlin_1583556_2.jpg\n",
      "There is duplication present for 1_berlin_969200_1.jpg\n",
      "There is duplication present for 1_berlin_6438456_2.jpg\n",
      "Duplicates present have been successfully removed!\n"
     ]
    }
   ],
   "source": [
    "# Define the path to the directory containing the image files\n",
    "path=\"/kaggle/working/duplicates\"\n",
    "\n",
    "# Define a function to check for duplicate images in the directory\n",
    "def checkDuplication():\n",
    "    # Create an empty dictionary to store image hashes and file paths\n",
    "    images_hash={}\n",
    "    # Iterate over all files in the directory\n",
    "    for i in (os.listdir(path)):\n",
    "        # Check if the file is a JPEG image\n",
    "        if i.endswith(\".jpg\"):\n",
    "            # Get the full file path of the image\n",
    "            file_path=os.path.join(path,i)\n",
    "            # Open the image using PIL library\n",
    "            image=Image.open(file_path)\n",
    "            # Calculate the average hash of the image and convert it to a string\n",
    "            img_hash=str(imagehash.average_hash(image))\n",
    "            # Check if the hash already exists in the dictionary\n",
    "            if img_hash in images_hash:\n",
    "                # If the hash exists, print a message indicating that the image is a duplicate and delete the file\n",
    "                print(f\"There is duplication present for {i}\")\n",
    "                os.remove(file_path)\n",
    "            else:\n",
    "                # If the hash doesn't exist, add it to the dictionary with the file path as the value\n",
    "                images_hash[img_hash]=file_path\n",
    "    # Return the dictionary containing the image hashes and file paths\n",
    "    return images_hash\n",
    "\n",
    "# Call the checkDuplication function and store the result in a variable\n",
    "img_hash=checkDuplication()\n",
    "\n",
    "# Print a message indicating that duplicates have been successfully removed\n",
    "print(\"Duplicates present have been successfully removed!\")\n"
   ]
  }
 ],
 "metadata": {
  "kernelspec": {
   "display_name": "Python 3",
   "language": "python",
   "name": "python3"
  },
  "language_info": {
   "codemirror_mode": {
    "name": "ipython",
    "version": 3
   },
   "file_extension": ".py",
   "mimetype": "text/x-python",
   "name": "python",
   "nbconvert_exporter": "python",
   "pygments_lexer": "ipython3",
   "version": "3.7.12"
  },
  "papermill": {
   "default_parameters": {},
   "duration": 13.39275,
   "end_time": "2023-03-28T11:28:35.854208",
   "environment_variables": {},
   "exception": null,
   "input_path": "__notebook__.ipynb",
   "output_path": "__notebook__.ipynb",
   "parameters": {},
   "start_time": "2023-03-28T11:28:22.461458",
   "version": "2.4.0"
  }
 },
 "nbformat": 4,
 "nbformat_minor": 5
}
